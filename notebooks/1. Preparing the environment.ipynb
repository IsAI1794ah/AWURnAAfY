{
 "metadata": {
  "name": "",
  "signature": "sha256:f82ef6eda8ed4e6480a576aa01d522079b98e39a16cc46a8ba1755f0539a22e6"
 },
 "nbformat": 3,
 "nbformat_minor": 0,
 "worksheets": [
  {
   "cells": [
    {
     "cell_type": "heading",
     "level": 1,
     "metadata": {},
     "source": [
      "1. Preparing the environment"
     ]
    },
    {
     "cell_type": "heading",
     "level": 2,
     "metadata": {},
     "source": [
      "1.1. A brief introduction"
     ]
    },
    {
     "cell_type": "markdown",
     "metadata": {},
     "source": [
      "This is a case study I proposed in my B.Sc. Computer Science's [thesis](https://github.com/josemazo/bsc-cs-thesis). The dataset used here was provided by [Chris Whong](https://twitter.com/chris_whong). So, thank you Chris for offering this dataset to the public, and also to noobs in machine learning like me, especially after [how](http://chriswhong.com/open-data/foil_nyc_taxi/) you got it.\n",
      "\n",
      "As a little abstract, what is achieved at the end of this series of notebooks is to predict if the tip of a trip in a NYC taxi it's going to be `less than 20%` or `greater than or equal to 20%` of the charge, with an accuracy of `71.74%`, without the possibility to use information about the passengers, a essential data for trying to accomplish this task."
     ]
    },
    {
     "cell_type": "heading",
     "level": 2,
     "metadata": {},
     "source": [
      "1.2. The tools"
     ]
    },
    {
     "cell_type": "markdown",
     "metadata": {},
     "source": [
      "The libraries you need for running these notebooks in your machine, besides `IPython Notebook`, are:\n",
      "\n",
      "* [matplotlib](http://matplotlib.org/)\n",
      "* [NumPy](http://www.numpy.org/)\n",
      "* [Pandas](http://pandas.pydata.org/)\n",
      "* [Seaborn](http://web.stanford.edu/~mwaskom/software/seaborn/)\n",
      "* [scikit-learn](http://scikit-learn.org/stable/)\n",
      "\n",
      "Also, for my thesis I created [BMO](https://github.com/josemazo/bmo), a Machine Learning toolbox based on Docker and IPython Notebook that creates an isolated Linux environment with all the libraries you need."
     ]
    },
    {
     "cell_type": "heading",
     "level": 2,
     "metadata": {},
     "source": [
      "1.3. The data"
     ]
    },
    {
     "cell_type": "markdown",
     "metadata": {},
     "source": [
      "The data used in this study is the information offered by the `NYC Taxi and Limousine Commission` from the taxi's trips of NYC in 2013. A total amount of 173,179,759 trips in 48.6GB of uncompressed CSV files!\n",
      "\n",
      "You can download the dataset from [this](http://chriswhong.com/open-data/foil_nyc_taxi/) Chris's post. It's offered as a compressed set of 24 CSV files, 2 per month of 2013. The first of this two files is the information about the trip's fares. The second one have the physical information of the trips, data like trip time and pickup and dropoff GPS coordinates.\n",
      "\n",
      "After download all the files, the way for use this data in these notebooks is to place the files inside the `data` folder, as shown in the next figure:\n",
      "\n",
      "![Data directory structure](../resources/data_directory_structure.png \"Data directory structure\")\n",
      "\n",
      "As you can see, it exists a strange file called `nyc_2013_holidays.csv`. This file, used in a few steps ahead, contains the list of the NYC holidays, extracted from the [nyc.gov](http://www.nyc.gov/html/opa/downloads/pdf/3-year%20Calendar%202013-2014-2015.pdf) website.\n",
      "\n",
      "Let's start to analyze this dataset by checking out the [next notebook](2. Exploring a subdataset.ipynb)."
     ]
    }
   ],
   "metadata": {}
  }
 ]
}